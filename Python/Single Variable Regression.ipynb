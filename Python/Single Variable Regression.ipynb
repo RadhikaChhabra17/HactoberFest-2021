{
 "cells": [
  {
   "cell_type": "code",
   "execution_count": 14,
   "id": "b8848943",
   "metadata": {},
   "outputs": [
    {
     "name": "stdout",
     "output_type": "stream",
     "text": [
      "Regression Coefficient: 2.089\n"
     ]
    },
    {
     "data": {
      "image/png": "[encoded data removed]",
      "text/plain": [
       "<Figure size 432x288 with 1 Axes>"
      ]
     },
     "metadata": {
      "needs_background": "light"
     },
     "output_type": "display_data"
    }
   ],
   "source": [
    "# imports\n",
    "import numpy as np\n",
    "import pandas as pd\n",
    "import matplotlib.pyplot as plt\n",
    "\n",
    "# Return reg_coeff, mean(x), mean(y)\n",
    "def train_model(x, y):\n",
    "    \n",
    "    m_x, m_y = np.mean(x), np.mean(y)\n",
    "    m_xy = np.mean(x*y)\n",
    "    m_x2 = np.mean(x**2)\n",
    "        \n",
    "    coeff = float((m_xy - m_x * m_y)/(m_x2 - m_x**2))\n",
    "    \n",
    "    return (coeff, m_x, m_y)\n",
    "#Regression coefficient is being calculated\n",
    "\n",
    "# Predict values\n",
    "def predict(x, values):\n",
    "    \n",
    "    coeff, m_x, m_y = values\n",
    "    return [m_y + coeff*(x - m_x) for item in x]\n",
    "#Predictions are made using equation of line formula\n",
    "\n",
    "def main(): \n",
    "    #Data is being read and processed after which model is being applied\n",
    "    data = pd.read_csv(r'C:\\Users\\Dell\\Desktop\\ML\\Regression_data.csv')\n",
    "    data.columns = ['x', 'y']\n",
    "    \n",
    "    train_data = data.sample(frac=0.6,random_state=200) \n",
    "    test_data = data.drop(train_data.index)\n",
    "\n",
    "    values = train_model(train_data['x'], train_data['y']) \n",
    "    print('Regression Coefficient: {0:.3f}'.format(values[0]))\n",
    "    predictions = predict(test_data['x'], values)\n",
    "\n",
    "    plt.scatter(test_data['x'], test_data['y'])\n",
    "    plt.plot(test_data['x'], predictions, ) \n",
    "    plt.xlabel('Data Points(x)') \n",
    "    plt.ylabel('Predicted Values(Y)') \n",
    "\n",
    "    plt.show()\n",
    "\n",
    "\n",
    "if __name__ == \"__main__\": \n",
    "    main() \n",
    "    \n"
   ]
  }
 ],
 "metadata": {
  "kernelspec": {
   "display_name": "Python 3",
   "language": "python",
   "name": "python3"
  },
  "language_info": {
   "codemirror_mode": {
    "name": "ipython",
    "version": 3
   },
   "file_extension": ".py",
   "mimetype": "text/x-python",
   "name": "python",
   "nbconvert_exporter": "python",
   "pygments_lexer": "ipython3",
   "version": "3.8.8"
  }
 },
 "nbformat": 4,
 "nbformat_minor": 5
}
